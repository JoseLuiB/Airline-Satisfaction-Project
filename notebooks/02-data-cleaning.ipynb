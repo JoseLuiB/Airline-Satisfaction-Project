{
 "cells": [
  {
   "cell_type": "markdown",
   "metadata": {},
   "source": [
    "# Limpieza de Datos\n",
    "Para realizar la limpieza de datos, seguiremos un proceso meticuloso que aborda tanto los problemas identificados durante la exploración inicial como los desafíos comunes presentes en los datos en bruto. Este paso es esencial, ya que asegura que el análisis posterior sea preciso, confiable y significativo."
   ]
  },
  {
   "cell_type": "markdown",
   "metadata": {},
   "source": [
    "### Importación de librerias"
   ]
  },
  {
   "cell_type": "code",
   "execution_count": 1,
   "metadata": {},
   "outputs": [],
   "source": [
    "import pandas as pd\n",
    "import numpy as np\n",
    "import matplotlib.pyplot as plt\n",
    "import seaborn as sns"
   ]
  },
  {
   "cell_type": "markdown",
   "metadata": {},
   "source": [
    "### Carga del dataframe"
   ]
  },
  {
   "cell_type": "code",
   "execution_count": 2,
   "metadata": {},
   "outputs": [],
   "source": [
    "# Cargamos nuestros datos combinados\n",
    "df = pd.read_csv(\"../data/processed/combined_data.csv\")"
   ]
  },
  {
   "cell_type": "markdown",
   "metadata": {},
   "source": [
    "## Identificación de inconsistencias"
   ]
  },
  {
   "cell_type": "code",
   "execution_count": 3,
   "metadata": {},
   "outputs": [
    {
     "data": {
      "text/plain": [
       "Unnamed: 0                             0\n",
       "id                                     0\n",
       "Gender                                 0\n",
       "Customer Type                          0\n",
       "Age                                    0\n",
       "Type of Travel                         0\n",
       "Class                                  0\n",
       "Flight Distance                        0\n",
       "Inflight wifi service                  0\n",
       "Departure/Arrival time convenient      0\n",
       "Ease of Online booking                 0\n",
       "Gate location                          0\n",
       "Food and drink                         0\n",
       "Online boarding                        0\n",
       "Seat comfort                           0\n",
       "Inflight entertainment                 0\n",
       "On-board service                       0\n",
       "Leg room service                       0\n",
       "Baggage handling                       0\n",
       "Checkin service                        0\n",
       "Inflight service                       0\n",
       "Cleanliness                            0\n",
       "Departure Delay in Minutes             0\n",
       "Arrival Delay in Minutes             393\n",
       "satisfaction                           0\n",
       "dtype: int64"
      ]
     },
     "execution_count": 3,
     "metadata": {},
     "output_type": "execute_result"
    }
   ],
   "source": [
    "# Valores nulos por columna\n",
    "df.isnull().sum()"
   ]
  },
  {
   "cell_type": "markdown",
   "metadata": {},
   "source": [
    "**Observación:** Encontramos un total de 393 datos nulos, todos ellos en la columna \"Arrival Delay in Minutes\" representado aproximadamente un 0.30% del total de filas de nuestro Dataframe."
   ]
  },
  {
   "cell_type": "code",
   "execution_count": 4,
   "metadata": {},
   "outputs": [
    {
     "data": {
      "text/plain": [
       "0"
      ]
     },
     "execution_count": 4,
     "metadata": {},
     "output_type": "execute_result"
    }
   ],
   "source": [
    "# Filas duplicadas\n",
    "df.duplicated().sum()"
   ]
  },
  {
   "cell_type": "markdown",
   "metadata": {},
   "source": [
    "**Nota:** Se ha validado que no existen filas duplicadas en nuestro DataFrame."
   ]
  },
  {
   "cell_type": "markdown",
   "metadata": {},
   "source": [
    "## Menejo de valores nulos"
   ]
  },
  {
   "cell_type": "code",
   "execution_count": 5,
   "metadata": {},
   "outputs": [],
   "source": [
    "# Asignamos una variable a los datos modificados y eliminamos los valores nulos\n",
    "df_cleaned = df.dropna()"
   ]
  },
  {
   "cell_type": "code",
   "execution_count": 6,
   "metadata": {},
   "outputs": [
    {
     "data": {
      "text/plain": [
       "Unnamed: 0                           0\n",
       "id                                   0\n",
       "Gender                               0\n",
       "Customer Type                        0\n",
       "Age                                  0\n",
       "Type of Travel                       0\n",
       "Class                                0\n",
       "Flight Distance                      0\n",
       "Inflight wifi service                0\n",
       "Departure/Arrival time convenient    0\n",
       "Ease of Online booking               0\n",
       "Gate location                        0\n",
       "Food and drink                       0\n",
       "Online boarding                      0\n",
       "Seat comfort                         0\n",
       "Inflight entertainment               0\n",
       "On-board service                     0\n",
       "Leg room service                     0\n",
       "Baggage handling                     0\n",
       "Checkin service                      0\n",
       "Inflight service                     0\n",
       "Cleanliness                          0\n",
       "Departure Delay in Minutes           0\n",
       "Arrival Delay in Minutes             0\n",
       "satisfaction                         0\n",
       "dtype: int64"
      ]
     },
     "execution_count": 6,
     "metadata": {},
     "output_type": "execute_result"
    }
   ],
   "source": [
    "# Confirmamos la limpieza de valores nulos\n",
    "df_cleaned.isnull().sum()"
   ]
  },
  {
   "cell_type": "markdown",
   "metadata": {},
   "source": [
    "## Correción de tipos de datos"
   ]
  },
  {
   "cell_type": "code",
   "execution_count": 7,
   "metadata": {},
   "outputs": [
    {
     "name": "stderr",
     "output_type": "stream",
     "text": [
      "C:\\Users\\JoseLuis\\AppData\\Local\\Temp\\ipykernel_15224\\453960683.py:2: SettingWithCopyWarning: \n",
      "A value is trying to be set on a copy of a slice from a DataFrame.\n",
      "Try using .loc[row_indexer,col_indexer] = value instead\n",
      "\n",
      "See the caveats in the documentation: https://pandas.pydata.org/pandas-docs/stable/user_guide/indexing.html#returning-a-view-versus-a-copy\n",
      "  df_cleaned[\"Arrival Delay in Minutes\"] = df_cleaned[\"Arrival Delay in Minutes\"].astype(\"int64\")\n"
     ]
    }
   ],
   "source": [
    "# Corregir el tipo de dato float de la columna \"Arrival Delay in Minutes\" a int\n",
    "df_cleaned[\"Arrival Delay in Minutes\"] = df_cleaned[\"Arrival Delay in Minutes\"].astype(\"int64\")"
   ]
  },
  {
   "cell_type": "code",
   "execution_count": 8,
   "metadata": {},
   "outputs": [
    {
     "name": "stdout",
     "output_type": "stream",
     "text": [
      "<class 'pandas.core.frame.DataFrame'>\n",
      "Index: 129487 entries, 0 to 129879\n",
      "Data columns (total 25 columns):\n",
      " #   Column                             Non-Null Count   Dtype \n",
      "---  ------                             --------------   ----- \n",
      " 0   Unnamed: 0                         129487 non-null  int64 \n",
      " 1   id                                 129487 non-null  int64 \n",
      " 2   Gender                             129487 non-null  object\n",
      " 3   Customer Type                      129487 non-null  object\n",
      " 4   Age                                129487 non-null  int64 \n",
      " 5   Type of Travel                     129487 non-null  object\n",
      " 6   Class                              129487 non-null  object\n",
      " 7   Flight Distance                    129487 non-null  int64 \n",
      " 8   Inflight wifi service              129487 non-null  int64 \n",
      " 9   Departure/Arrival time convenient  129487 non-null  int64 \n",
      " 10  Ease of Online booking             129487 non-null  int64 \n",
      " 11  Gate location                      129487 non-null  int64 \n",
      " 12  Food and drink                     129487 non-null  int64 \n",
      " 13  Online boarding                    129487 non-null  int64 \n",
      " 14  Seat comfort                       129487 non-null  int64 \n",
      " 15  Inflight entertainment             129487 non-null  int64 \n",
      " 16  On-board service                   129487 non-null  int64 \n",
      " 17  Leg room service                   129487 non-null  int64 \n",
      " 18  Baggage handling                   129487 non-null  int64 \n",
      " 19  Checkin service                    129487 non-null  int64 \n",
      " 20  Inflight service                   129487 non-null  int64 \n",
      " 21  Cleanliness                        129487 non-null  int64 \n",
      " 22  Departure Delay in Minutes         129487 non-null  int64 \n",
      " 23  Arrival Delay in Minutes           129487 non-null  int64 \n",
      " 24  satisfaction                       129487 non-null  object\n",
      "dtypes: int64(20), object(5)\n",
      "memory usage: 25.7+ MB\n"
     ]
    }
   ],
   "source": [
    "# Confirmamos la corrección de tipo de dato\n",
    "df_cleaned.info()"
   ]
  },
  {
   "cell_type": "markdown",
   "metadata": {},
   "source": [
    "## Manejo de Outliers (valores atípicos)"
   ]
  },
  {
   "cell_type": "markdown",
   "metadata": {},
   "source": [
    "Confirmaremos la presencia de valores atípicos en las columnas \"Arrival Delay in Minutes\" y \"Departure Delay in Minutes\"."
   ]
  },
  {
   "cell_type": "code",
   "execution_count": 23,
   "metadata": {},
   "outputs": [
    {
     "data": {
      "image/png": "[encoded data removed]",
      "text/plain": [
       "<Figure size 1000x400 with 2 Axes>"
      ]
     },
     "metadata": {},
     "output_type": "display_data"
    }
   ],
   "source": [
    "# Representamos los datos dentro de nuestras columnas para identificiar de manera visual datos atípicos\n",
    "plt.figure(figsize=(10, 4))\n",
    "\n",
    "plt.subplot(1, 2, 1)\n",
    "sns.histplot(df_cleaned[\"Arrival Delay in Minutes\"], bins=50, kde=True)\n",
    "plt.title(\"Distribución del Retraso en la Llegada (Minutos)\")\n",
    "\n",
    "plt.subplot(1, 2, 2)\n",
    "sns.boxplot(x=df_cleaned[\"Arrival Delay in Minutes\"])\n",
    "plt.title(\"Boxplot del Retraso en la Llegada (Minutos)\")\n",
    "\n",
    "plt.show()"
   ]
  },
  {
   "cell_type": "code",
   "execution_count": 10,
   "metadata": {},
   "outputs": [
    {
     "data": {
      "image/png": "[encoded data removed]",
      "text/plain": [
       "<Figure size 1000x400 with 2 Axes>"
      ]
     },
     "metadata": {},
     "output_type": "display_data"
    }
   ],
   "source": [
    "plt.figure(figsize=(10, 4))\n",
    "\n",
    "plt.subplot(1, 2, 1)\n",
    "sns.histplot(df_cleaned[\"Departure Delay in Minutes\"], bins=50, kde=True)\n",
    "plt.title(\"Distribución del Retraso en la Salida (Minutos)\")\n",
    "\n",
    "plt.subplot(1, 2, 2)\n",
    "sns.boxplot(x=df_cleaned[\"Departure Delay in Minutes\"])\n",
    "plt.title(\"Boxplot del Retraso en la Salida (Minutos)\")\n",
    "\n",
    "plt.show()"
   ]
  },
  {
   "cell_type": "code",
   "execution_count": 11,
   "metadata": {},
   "outputs": [],
   "source": [
    "# Creamos una función para identificar los valores atípicos\n",
    "def identificar_outliers(data, col):\n",
    "\n",
    "    Q1 = data[col].quantile(0.25)\n",
    "    Q3 = data[col].quantile(0.75)\n",
    "    IQR = Q3 - Q1\n",
    "\n",
    "    limite_inferior = Q1 - 1.5 * IQR\n",
    "    limite_superior = Q3 + 1.5 * IQR\n",
    "\n",
    "    # Filtrar los datos sin outliers\n",
    "    df_sin_outliers = data[(data[col] >= limite_inferior) & (data[col] <= limite_superior)]\n",
    "\n",
    "    # Filtrar los datos que son outliers\n",
    "    outliers = data[(data[col] < limite_inferior) | (data[col] > limite_superior)]\n",
    "    \n",
    "    return df_sin_outliers, outliers"
   ]
  },
  {
   "cell_type": "code",
   "execution_count": 12,
   "metadata": {},
   "outputs": [],
   "source": [
    "# Usamos nuestra la fución \"indentificar_outliers\" en nuestra columna \"Arrival Delay in Minutes\", con la cual creamos dos dataframes, \"df_sin_outliers\" y \"outliers\"\n",
    "df_sin_outliers, outliers = identificar_outliers(df_cleaned, \"Arrival Delay in Minutes\")"
   ]
  },
  {
   "cell_type": "code",
   "execution_count": 13,
   "metadata": {},
   "outputs": [],
   "source": [
    "# Usamos nuevamente nuestra función en la columna \"Departure Delay in Minutes\" pero esta vez en el dataframe \"df_sin_outliers\"\n",
    "df_sin_outliers, outliers = identificar_outliers(df_sin_outliers, \"Departure Delay in Minutes\")"
   ]
  },
  {
   "cell_type": "code",
   "execution_count": 14,
   "metadata": {},
   "outputs": [
    {
     "name": "stdout",
     "output_type": "stream",
     "text": [
      "<class 'pandas.core.frame.DataFrame'>\n",
      "Index: 96286 entries, 1 to 129879\n",
      "Data columns (total 25 columns):\n",
      " #   Column                             Non-Null Count  Dtype \n",
      "---  ------                             --------------  ----- \n",
      " 0   Unnamed: 0                         96286 non-null  int64 \n",
      " 1   id                                 96286 non-null  int64 \n",
      " 2   Gender                             96286 non-null  object\n",
      " 3   Customer Type                      96286 non-null  object\n",
      " 4   Age                                96286 non-null  int64 \n",
      " 5   Type of Travel                     96286 non-null  object\n",
      " 6   Class                              96286 non-null  object\n",
      " 7   Flight Distance                    96286 non-null  int64 \n",
      " 8   Inflight wifi service              96286 non-null  int64 \n",
      " 9   Departure/Arrival time convenient  96286 non-null  int64 \n",
      " 10  Ease of Online booking             96286 non-null  int64 \n",
      " 11  Gate location                      96286 non-null  int64 \n",
      " 12  Food and drink                     96286 non-null  int64 \n",
      " 13  Online boarding                    96286 non-null  int64 \n",
      " 14  Seat comfort                       96286 non-null  int64 \n",
      " 15  Inflight entertainment             96286 non-null  int64 \n",
      " 16  On-board service                   96286 non-null  int64 \n",
      " 17  Leg room service                   96286 non-null  int64 \n",
      " 18  Baggage handling                   96286 non-null  int64 \n",
      " 19  Checkin service                    96286 non-null  int64 \n",
      " 20  Inflight service                   96286 non-null  int64 \n",
      " 21  Cleanliness                        96286 non-null  int64 \n",
      " 22  Departure Delay in Minutes         96286 non-null  int64 \n",
      " 23  Arrival Delay in Minutes           96286 non-null  int64 \n",
      " 24  satisfaction                       96286 non-null  object\n",
      "dtypes: int64(20), object(5)\n",
      "memory usage: 19.1+ MB\n"
     ]
    }
   ],
   "source": [
    "# Analisamos el resultado del dataframe \"df_sin_outliers\"\n",
    "df_sin_outliers.info()"
   ]
  },
  {
   "cell_type": "markdown",
   "metadata": {},
   "source": [
    "**Nota:** Dado que una cantidad significativa de datos en nuestro DataFrame son outliers (33,201 registros, equivalentes al 25.64% del total), hemos decidido imputar estos valores atípicos en lugar de eliminarlos."
   ]
  },
  {
   "cell_type": "code",
   "execution_count": 15,
   "metadata": {},
   "outputs": [],
   "source": [
    "# Creamos una función la cual calcula la media de nuestra columna y reemplaza los valores atípicos por la media\n",
    "def remplazar_outliers(data, col):\n",
    "    \n",
    "    Q1 = data[col].quantile(0.25)\n",
    "    Q3 = data[col].quantile(0.75)\n",
    "\n",
    "    IQR = Q3 - Q1\n",
    "\n",
    "    limite_inferior = Q1 - 1.5 * IQR\n",
    "    limite_superior = Q3 + 1.5 * IQR \n",
    "\n",
    "    # Calcula la media\n",
    "    media = data[col].mean()\n",
    "\n",
    "    # Reemplaza los outliers por la media\n",
    "    df[col] = data[col].apply(lambda x: media if x < limite_inferior or x > limite_superior else x)\n",
    "\n",
    "    return data"
   ]
  },
  {
   "cell_type": "code",
   "execution_count": 37,
   "metadata": {},
   "outputs": [
    {
     "name": "stderr",
     "output_type": "stream",
     "text": [
      "C:\\Users\\JoseLuis\\AppData\\Local\\Temp\\ipykernel_15224\\362853491.py:16: SettingWithCopyWarning: \n",
      "A value is trying to be set on a copy of a slice from a DataFrame.\n",
      "Try using .loc[row_indexer,col_indexer] = value instead\n",
      "\n",
      "See the caveats in the documentation: https://pandas.pydata.org/pandas-docs/stable/user_guide/indexing.html#returning-a-view-versus-a-copy\n",
      "  data[col] = data[col].apply(lambda x: media if x < limite_inferior or x > limite_superior else x)\n",
      "C:\\Users\\JoseLuis\\AppData\\Local\\Temp\\ipykernel_15224\\362853491.py:16: SettingWithCopyWarning: \n",
      "A value is trying to be set on a copy of a slice from a DataFrame.\n",
      "Try using .loc[row_indexer,col_indexer] = value instead\n",
      "\n",
      "See the caveats in the documentation: https://pandas.pydata.org/pandas-docs/stable/user_guide/indexing.html#returning-a-view-versus-a-copy\n",
      "  data[col] = data[col].apply(lambda x: media if x < limite_inferior or x > limite_superior else x)\n"
     ]
    }
   ],
   "source": [
    "# Usamos nuestra función para reemplazar valores atípicos por la media en nuestras columnas\n",
    "\n",
    "df_depure = remplazar_outliers(df_cleaned, \"Arrival Delay in Minutes\")\n",
    "\n",
    "df_media_outliers = remplazar_outliers(df_depure, \"Departure Delay in Minutes\")"
   ]
  },
  {
   "cell_type": "code",
   "execution_count": 38,
   "metadata": {},
   "outputs": [
    {
     "data": {
      "text/html": [
       "<div>\n",
       "<style scoped>\n",
       "    .dataframe tbody tr th:only-of-type {\n",
       "        vertical-align: middle;\n",
       "    }\n",
       "\n",
       "    .dataframe tbody tr th {\n",
       "        vertical-align: top;\n",
       "    }\n",
       "\n",
       "    .dataframe thead th {\n",
       "        text-align: right;\n",
       "    }\n",
       "</style>\n",
       "<table border=\"1\" class=\"dataframe\">\n",
       "  <thead>\n",
       "    <tr style=\"text-align: right;\">\n",
       "      <th></th>\n",
       "      <th>Unnamed: 0</th>\n",
       "      <th>id</th>\n",
       "      <th>Age</th>\n",
       "      <th>Flight Distance</th>\n",
       "      <th>Inflight wifi service</th>\n",
       "      <th>Departure/Arrival time convenient</th>\n",
       "      <th>Ease of Online booking</th>\n",
       "      <th>Gate location</th>\n",
       "      <th>Food and drink</th>\n",
       "      <th>Online boarding</th>\n",
       "      <th>Seat comfort</th>\n",
       "      <th>Inflight entertainment</th>\n",
       "      <th>On-board service</th>\n",
       "      <th>Leg room service</th>\n",
       "      <th>Baggage handling</th>\n",
       "      <th>Checkin service</th>\n",
       "      <th>Inflight service</th>\n",
       "      <th>Cleanliness</th>\n",
       "      <th>Departure Delay in Minutes</th>\n",
       "      <th>Arrival Delay in Minutes</th>\n",
       "    </tr>\n",
       "  </thead>\n",
       "  <tbody>\n",
       "    <tr>\n",
       "      <th>count</th>\n",
       "      <td>129487.000000</td>\n",
       "      <td>129487.000000</td>\n",
       "      <td>129487.000000</td>\n",
       "      <td>129487.000000</td>\n",
       "      <td>129487.000000</td>\n",
       "      <td>129487.000000</td>\n",
       "      <td>129487.000000</td>\n",
       "      <td>129487.000000</td>\n",
       "      <td>129487.000000</td>\n",
       "      <td>129487.000000</td>\n",
       "      <td>129487.000000</td>\n",
       "      <td>129487.000000</td>\n",
       "      <td>129487.000000</td>\n",
       "      <td>129487.000000</td>\n",
       "      <td>129487.000000</td>\n",
       "      <td>129487.000000</td>\n",
       "      <td>129487.000000</td>\n",
       "      <td>129487.000000</td>\n",
       "      <td>129487.000000</td>\n",
       "      <td>129487.000000</td>\n",
       "    </tr>\n",
       "    <tr>\n",
       "      <th>mean</th>\n",
       "      <td>44158.973480</td>\n",
       "      <td>64958.335169</td>\n",
       "      <td>39.428761</td>\n",
       "      <td>1190.210662</td>\n",
       "      <td>2.728544</td>\n",
       "      <td>3.057349</td>\n",
       "      <td>2.756786</td>\n",
       "      <td>2.976909</td>\n",
       "      <td>3.204685</td>\n",
       "      <td>3.252720</td>\n",
       "      <td>3.441589</td>\n",
       "      <td>3.358067</td>\n",
       "      <td>3.383204</td>\n",
       "      <td>3.351078</td>\n",
       "      <td>3.631886</td>\n",
       "      <td>3.306239</td>\n",
       "      <td>3.642373</td>\n",
       "      <td>3.286222</td>\n",
       "      <td>5.231441</td>\n",
       "      <td>5.581680</td>\n",
       "    </tr>\n",
       "    <tr>\n",
       "      <th>std</th>\n",
       "      <td>31209.526335</td>\n",
       "      <td>37489.781165</td>\n",
       "      <td>15.117597</td>\n",
       "      <td>997.560954</td>\n",
       "      <td>1.329235</td>\n",
       "      <td>1.526787</td>\n",
       "      <td>1.401662</td>\n",
       "      <td>1.278506</td>\n",
       "      <td>1.329905</td>\n",
       "      <td>1.350651</td>\n",
       "      <td>1.319168</td>\n",
       "      <td>1.334149</td>\n",
       "      <td>1.287032</td>\n",
       "      <td>1.316132</td>\n",
       "      <td>1.180082</td>\n",
       "      <td>1.266146</td>\n",
       "      <td>1.176614</td>\n",
       "      <td>1.313624</td>\n",
       "      <td>7.555046</td>\n",
       "      <td>7.963373</td>\n",
       "    </tr>\n",
       "    <tr>\n",
       "      <th>min</th>\n",
       "      <td>0.000000</td>\n",
       "      <td>1.000000</td>\n",
       "      <td>7.000000</td>\n",
       "      <td>31.000000</td>\n",
       "      <td>0.000000</td>\n",
       "      <td>0.000000</td>\n",
       "      <td>0.000000</td>\n",
       "      <td>0.000000</td>\n",
       "      <td>0.000000</td>\n",
       "      <td>0.000000</td>\n",
       "      <td>0.000000</td>\n",
       "      <td>0.000000</td>\n",
       "      <td>0.000000</td>\n",
       "      <td>0.000000</td>\n",
       "      <td>1.000000</td>\n",
       "      <td>0.000000</td>\n",
       "      <td>0.000000</td>\n",
       "      <td>0.000000</td>\n",
       "      <td>0.000000</td>\n",
       "      <td>0.000000</td>\n",
       "    </tr>\n",
       "    <tr>\n",
       "      <th>25%</th>\n",
       "      <td>16230.000000</td>\n",
       "      <td>32494.500000</td>\n",
       "      <td>27.000000</td>\n",
       "      <td>414.000000</td>\n",
       "      <td>2.000000</td>\n",
       "      <td>2.000000</td>\n",
       "      <td>2.000000</td>\n",
       "      <td>2.000000</td>\n",
       "      <td>2.000000</td>\n",
       "      <td>2.000000</td>\n",
       "      <td>2.000000</td>\n",
       "      <td>2.000000</td>\n",
       "      <td>2.000000</td>\n",
       "      <td>2.000000</td>\n",
       "      <td>3.000000</td>\n",
       "      <td>3.000000</td>\n",
       "      <td>3.000000</td>\n",
       "      <td>2.000000</td>\n",
       "      <td>0.000000</td>\n",
       "      <td>0.000000</td>\n",
       "    </tr>\n",
       "    <tr>\n",
       "      <th>50%</th>\n",
       "      <td>38966.000000</td>\n",
       "      <td>64972.000000</td>\n",
       "      <td>40.000000</td>\n",
       "      <td>844.000000</td>\n",
       "      <td>3.000000</td>\n",
       "      <td>3.000000</td>\n",
       "      <td>3.000000</td>\n",
       "      <td>3.000000</td>\n",
       "      <td>3.000000</td>\n",
       "      <td>3.000000</td>\n",
       "      <td>4.000000</td>\n",
       "      <td>4.000000</td>\n",
       "      <td>4.000000</td>\n",
       "      <td>4.000000</td>\n",
       "      <td>4.000000</td>\n",
       "      <td>3.000000</td>\n",
       "      <td>4.000000</td>\n",
       "      <td>3.000000</td>\n",
       "      <td>0.000000</td>\n",
       "      <td>0.000000</td>\n",
       "    </tr>\n",
       "    <tr>\n",
       "      <th>75%</th>\n",
       "      <td>71440.500000</td>\n",
       "      <td>97415.500000</td>\n",
       "      <td>51.000000</td>\n",
       "      <td>1744.000000</td>\n",
       "      <td>4.000000</td>\n",
       "      <td>4.000000</td>\n",
       "      <td>4.000000</td>\n",
       "      <td>4.000000</td>\n",
       "      <td>4.000000</td>\n",
       "      <td>4.000000</td>\n",
       "      <td>5.000000</td>\n",
       "      <td>4.000000</td>\n",
       "      <td>4.000000</td>\n",
       "      <td>4.000000</td>\n",
       "      <td>5.000000</td>\n",
       "      <td>4.000000</td>\n",
       "      <td>5.000000</td>\n",
       "      <td>4.000000</td>\n",
       "      <td>12.000000</td>\n",
       "      <td>13.000000</td>\n",
       "    </tr>\n",
       "    <tr>\n",
       "      <th>max</th>\n",
       "      <td>103903.000000</td>\n",
       "      <td>129880.000000</td>\n",
       "      <td>85.000000</td>\n",
       "      <td>4983.000000</td>\n",
       "      <td>5.000000</td>\n",
       "      <td>5.000000</td>\n",
       "      <td>5.000000</td>\n",
       "      <td>5.000000</td>\n",
       "      <td>5.000000</td>\n",
       "      <td>5.000000</td>\n",
       "      <td>5.000000</td>\n",
       "      <td>5.000000</td>\n",
       "      <td>5.000000</td>\n",
       "      <td>5.000000</td>\n",
       "      <td>5.000000</td>\n",
       "      <td>5.000000</td>\n",
       "      <td>5.000000</td>\n",
       "      <td>5.000000</td>\n",
       "      <td>30.000000</td>\n",
       "      <td>32.000000</td>\n",
       "    </tr>\n",
       "  </tbody>\n",
       "</table>\n",
       "</div>"
      ],
      "text/plain": [
       "          Unnamed: 0             id            Age  Flight Distance  \\\n",
       "count  129487.000000  129487.000000  129487.000000    129487.000000   \n",
       "mean    44158.973480   64958.335169      39.428761      1190.210662   \n",
       "std     31209.526335   37489.781165      15.117597       997.560954   \n",
       "min         0.000000       1.000000       7.000000        31.000000   \n",
       "25%     16230.000000   32494.500000      27.000000       414.000000   \n",
       "50%     38966.000000   64972.000000      40.000000       844.000000   \n",
       "75%     71440.500000   97415.500000      51.000000      1744.000000   \n",
       "max    103903.000000  129880.000000      85.000000      4983.000000   \n",
       "\n",
       "       Inflight wifi service  Departure/Arrival time convenient  \\\n",
       "count          129487.000000                      129487.000000   \n",
       "mean                2.728544                           3.057349   \n",
       "std                 1.329235                           1.526787   \n",
       "min                 0.000000                           0.000000   \n",
       "25%                 2.000000                           2.000000   \n",
       "50%                 3.000000                           3.000000   \n",
       "75%                 4.000000                           4.000000   \n",
       "max                 5.000000                           5.000000   \n",
       "\n",
       "       Ease of Online booking  Gate location  Food and drink  Online boarding  \\\n",
       "count           129487.000000  129487.000000   129487.000000    129487.000000   \n",
       "mean                 2.756786       2.976909        3.204685         3.252720   \n",
       "std                  1.401662       1.278506        1.329905         1.350651   \n",
       "min                  0.000000       0.000000        0.000000         0.000000   \n",
       "25%                  2.000000       2.000000        2.000000         2.000000   \n",
       "50%                  3.000000       3.000000        3.000000         3.000000   \n",
       "75%                  4.000000       4.000000        4.000000         4.000000   \n",
       "max                  5.000000       5.000000        5.000000         5.000000   \n",
       "\n",
       "        Seat comfort  Inflight entertainment  On-board service  \\\n",
       "count  129487.000000           129487.000000     129487.000000   \n",
       "mean        3.441589                3.358067          3.383204   \n",
       "std         1.319168                1.334149          1.287032   \n",
       "min         0.000000                0.000000          0.000000   \n",
       "25%         2.000000                2.000000          2.000000   \n",
       "50%         4.000000                4.000000          4.000000   \n",
       "75%         5.000000                4.000000          4.000000   \n",
       "max         5.000000                5.000000          5.000000   \n",
       "\n",
       "       Leg room service  Baggage handling  Checkin service  Inflight service  \\\n",
       "count     129487.000000     129487.000000    129487.000000     129487.000000   \n",
       "mean           3.351078          3.631886         3.306239          3.642373   \n",
       "std            1.316132          1.180082         1.266146          1.176614   \n",
       "min            0.000000          1.000000         0.000000          0.000000   \n",
       "25%            2.000000          3.000000         3.000000          3.000000   \n",
       "50%            4.000000          4.000000         3.000000          4.000000   \n",
       "75%            4.000000          5.000000         4.000000          5.000000   \n",
       "max            5.000000          5.000000         5.000000          5.000000   \n",
       "\n",
       "         Cleanliness  Departure Delay in Minutes  Arrival Delay in Minutes  \n",
       "count  129487.000000               129487.000000             129487.000000  \n",
       "mean        3.286222                    5.231441                  5.581680  \n",
       "std         1.313624                    7.555046                  7.963373  \n",
       "min         0.000000                    0.000000                  0.000000  \n",
       "25%         2.000000                    0.000000                  0.000000  \n",
       "50%         3.000000                    0.000000                  0.000000  \n",
       "75%         4.000000                   12.000000                 13.000000  \n",
       "max         5.000000                   30.000000                 32.000000  "
      ]
     },
     "execution_count": 38,
     "metadata": {},
     "output_type": "execute_result"
    }
   ],
   "source": [
    "# Confirmamos de manera estadistica nuestro cambio\n",
    "df_media_outliers.describe()"
   ]
  },
  {
   "cell_type": "code",
   "execution_count": 40,
   "metadata": {},
   "outputs": [
    {
     "name": "stdout",
     "output_type": "stream",
     "text": [
      "<class 'pandas.core.frame.DataFrame'>\n",
      "Index: 129487 entries, 0 to 129879\n",
      "Data columns (total 25 columns):\n",
      " #   Column                             Non-Null Count   Dtype  \n",
      "---  ------                             --------------   -----  \n",
      " 0   Unnamed: 0                         129487 non-null  int64  \n",
      " 1   id                                 129487 non-null  int64  \n",
      " 2   Gender                             129487 non-null  object \n",
      " 3   Customer Type                      129487 non-null  object \n",
      " 4   Age                                129487 non-null  int64  \n",
      " 5   Type of Travel                     129487 non-null  object \n",
      " 6   Class                              129487 non-null  object \n",
      " 7   Flight Distance                    129487 non-null  int64  \n",
      " 8   Inflight wifi service              129487 non-null  int64  \n",
      " 9   Departure/Arrival time convenient  129487 non-null  int64  \n",
      " 10  Ease of Online booking             129487 non-null  int64  \n",
      " 11  Gate location                      129487 non-null  int64  \n",
      " 12  Food and drink                     129487 non-null  int64  \n",
      " 13  Online boarding                    129487 non-null  int64  \n",
      " 14  Seat comfort                       129487 non-null  int64  \n",
      " 15  Inflight entertainment             129487 non-null  int64  \n",
      " 16  On-board service                   129487 non-null  int64  \n",
      " 17  Leg room service                   129487 non-null  int64  \n",
      " 18  Baggage handling                   129487 non-null  int64  \n",
      " 19  Checkin service                    129487 non-null  int64  \n",
      " 20  Inflight service                   129487 non-null  int64  \n",
      " 21  Cleanliness                        129487 non-null  int64  \n",
      " 22  Departure Delay in Minutes         129487 non-null  float64\n",
      " 23  Arrival Delay in Minutes           129487 non-null  float64\n",
      " 24  satisfaction                       129487 non-null  object \n",
      "dtypes: float64(2), int64(18), object(5)\n",
      "memory usage: 25.7+ MB\n"
     ]
    }
   ],
   "source": [
    "# Observamos la nueva estructura de nuestros datos\n",
    "df_media_outliers.info()"
   ]
  },
  {
   "cell_type": "code",
   "execution_count": 20,
   "metadata": {},
   "outputs": [
    {
     "data": {
      "image/png": "[encoded data removed]",
      "text/plain": [
       "<Figure size 1000x400 with 2 Axes>"
      ]
     },
     "metadata": {},
     "output_type": "display_data"
    }
   ],
   "source": [
    "# Confirmamos de manera visual la nueva distrabución de nuestros datos en ambas columnas intervenidas\n",
    "plt.figure(figsize=(10, 4))\n",
    "\n",
    "plt.subplot(1, 2, 1)\n",
    "sns.histplot(df_media_outliers[\"Arrival Delay in Minutes\"], bins=50, kde=True)\n",
    "plt.title(\"Distribución del Retraso en la Llegada (Minutos)\")\n",
    "\n",
    "plt.subplot(1, 2, 2)\n",
    "sns.boxplot(x=df_media_outliers[\"Arrival Delay in Minutes\"])\n",
    "plt.title(\"Boxplot del Retraso en la Llegada (Minutos\")\n",
    "\n",
    "plt.show()"
   ]
  },
  {
   "cell_type": "code",
   "execution_count": 21,
   "metadata": {},
   "outputs": [
    {
     "data": {
      "image/png": "[encoded data removed]",
      "text/plain": [
       "<Figure size 1000x400 with 2 Axes>"
      ]
     },
     "metadata": {},
     "output_type": "display_data"
    }
   ],
   "source": [
    "plt.figure(figsize=(10, 4))\n",
    "\n",
    "plt.subplot(1, 2, 1)\n",
    "sns.histplot(df_media_outliers[\"Departure Delay in Minutes\"], bins=50, kde=True)\n",
    "plt.title('Distribución del Retraso en la Salida (Minutos)')\n",
    "\n",
    "plt.subplot(1, 2, 2)\n",
    "sns.boxplot(x=df_media_outliers[\"Departure Delay in Minutes\"])\n",
    "plt.title('Boxplot del Retraso en la Salida (Minutos)')\n",
    "\n",
    "plt.show()"
   ]
  },
  {
   "cell_type": "markdown",
   "metadata": {},
   "source": [
    "**Observaciones:** A lo largo del proceso, nuestro DataFrame ha evolucionado a medida que hemos identificado y corregido problemas desde la adquisición de los datos. Este es un paso crucial y común en el análisis de datos, ya que una limpieza exhaustiva es esencial para obtener resultados precisos y confiables.\n",
    "\n",
    "Con la fase de exploración y limpieza de datos concluida, estamos listos para proceder con el análisis."
   ]
  },
  {
   "cell_type": "markdown",
   "metadata": {},
   "source": [
    "### Guardamos nuestro dataframe limpio"
   ]
  },
  {
   "cell_type": "code",
   "execution_count": 43,
   "metadata": {},
   "outputs": [],
   "source": [
    "# Guardamos nuestro dataframe limpio en nuestra carpeta \"data/processed\"\n",
    "df_media_outliers.to_csv(\"../data/processed/cleaning_data.csv\", index=False)"
   ]
  }
 ],
 "metadata": {
  "kernelspec": {
   "display_name": "Python 3",
   "language": "python",
   "name": "python3"
  },
  "language_info": {
   "codemirror_mode": {
    "name": "ipython",
    "version": 3
   },
   "file_extension": ".py",
   "mimetype": "text/x-python",
   "name": "python",
   "nbconvert_exporter": "python",
   "pygments_lexer": "ipython3",
   "version": "3.12.4"
  }
 },
 "nbformat": 4,
 "nbformat_minor": 2
}
